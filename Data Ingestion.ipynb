{
 "cells": [
  {
   "cell_type": "markdown",
   "metadata": {},
   "source": [
    "## Imports if don't acquire any of these package pip install it"
   ]
  },
  {
   "cell_type": "code",
   "execution_count": 10,
   "metadata": {},
   "outputs": [],
   "source": [
    "import mysql.connector\n",
    "from mysql.connector import Error\n",
    "import pandas as pd"
   ]
  },
  {
   "cell_type": "markdown",
   "metadata": {},
   "source": [
    "### Adding the connection parameters and connect to mysql database\n"
   ]
  },
  {
   "cell_type": "code",
   "execution_count": 11,
   "metadata": {},
   "outputs": [],
   "source": [
    "# Define your connection parameters\n",
    "connection_params = {\n",
    "    'host': 'localhost', # e.g., 'localhost' or '127.0.0.1'\n",
    "    'database': 'platformdb1', # Name of your database\n",
    "    'user': 'root', # Your MySQL username\n",
    "    'password': '0000', # Your MySQL password\n",
    "}\n",
    "\n",
    "df = pd.read_excel('output2.xlsx',engine= 'openpyxl')\n",
    "# convert the date type to a format to fit the mysql format\n",
    "df['date'] = pd.to_datetime(df['date'], format='%d/%m/%y')"
   ]
  },
  {
   "cell_type": "markdown",
   "metadata": {},
   "source": [
    "### Insert the data into the Tables dates,Brand,Category,Reigon, SKU and siZeBracket"
   ]
  },
  {
   "cell_type": "code",
   "execution_count": 20,
   "metadata": {},
   "outputs": [
    {
     "name": "stdout",
     "output_type": "stream",
     "text": [
      "successfully ingested into the Brand.\n",
      "successfully ingested into the Segment.\n",
      "successfully ingested into the Reigon.\n",
      "successfully ingested into the SKU.\n",
      "successfully ingested into the SizeBracket.\n"
     ]
    }
   ],
   "source": [
    "try:\n",
    "    # Establish the connection\n",
    "    connection = mysql.connector.connect(**connection_params)\n",
    "    \n",
    "    if connection.is_connected():\n",
    "\n",
    "        for table, column in [\n",
    "            ('Brand', 'brand'),\n",
    "            ('Segment', 'Segment'),\n",
    "            ('Reigon', 'Reigon'),\n",
    "            ('SKU', 'sku'),\n",
    "            ('SizeBracket','size_bracket')\n",
    "        ]:\n",
    "            cursor = connection.cursor()\n",
    "            unique_values = df[column].drop_duplicates().dropna().tolist() \n",
    "\n",
    "            data_to_insert = [(v,) for v in unique_values]\n",
    "\n",
    "            if column == 'date': \n",
    "                query = f\"INSERT INTO {table} ({column}) VALUES (%s)\"\n",
    "            else : \n",
    "                query = f\"INSERT INTO {table} ({column}_name) VALUES (%s)\"\n",
    "\n",
    "            cursor.executemany(query, data_to_insert)\n",
    "            connection.commit()\n",
    "\n",
    "            print(f\"successfully ingested into the {table}.\")\n",
    "    \n",
    "\n",
    "except Error as e:\n",
    "    print(\"Error while connecting to MySQL\", e)\n"
   ]
  },
  {
   "cell_type": "markdown",
   "metadata": {},
   "source": [
    "### Adding The data into the rawdata table row by row from the excel file with matching id from other tables like SKU\n",
    "\n",
    "It will take sometime 1:2 mins maybe"
   ]
  },
  {
   "cell_type": "code",
   "execution_count": 21,
   "metadata": {},
   "outputs": [
    {
     "name": "stdout",
     "output_type": "stream",
     "text": [
      "Data inserted successfully into RawData table.\n"
     ]
    }
   ],
   "source": [
    "try:\n",
    "\n",
    "    connection = mysql.connector.connect(**connection_params)\n",
    "\n",
    "    cursor = connection.cursor()\n",
    "    if connection.is_connected():\n",
    "\n",
    "        category_id = size_bracket_id = sku_id = reigon_id = None\n",
    "\n",
    "        # Now, insert data into the fact_sales table\n",
    "        for index, row in df.iterrows():\n",
    "\n",
    "            \n",
    "            cursor.execute(\"SELECT brand_id FROM Brand WHERE brand_name = %s\", (row['brand'],))\n",
    "            brand_id = cursor.fetchone()[0]\n",
    "            \n",
    "            if pd.notna(row['Segment']) :\n",
    "                cursor.execute(\"SELECT segment_id FROM Segment WHERE Segment_name = %s\", (row['Segment'],))\n",
    "                Segment_id = cursor.fetchone()[0]\n",
    "            \n",
    "            if pd.notna(row['size_bracket']) :\n",
    "                cursor.execute(\"SELECT size_bracket_id FROM sizebracket WHERE size_bracket_name = %s\", (row['size_bracket'],))\n",
    "                size_bracket_id = cursor.fetchone()[0]\n",
    "            \n",
    "            if pd.notna(row['Reigon']) :\n",
    "                cursor.execute(\"SELECT Reigon_id FROM Reigon WHERE Reigon_name = %s\", (row['Reigon'],))\n",
    "                reigon_id = cursor.fetchone()[0]\n",
    "\n",
    "            if pd.notna(row['sku']) :\n",
    "                cursor.execute(\"SELECT sku_id FROM SKU WHERE sku_name = %s\", (row['sku'],))\n",
    "                sku_id = cursor.fetchone()[0]\n",
    "                \n",
    "            # Prepare the dynamic SQL query and parameters\n",
    "            columns = ['brand_id']\n",
    "            values = [brand_id]\n",
    "            \n",
    "\n",
    "        \n",
    "            if Segment_id is not None:\n",
    "                columns.append('Segment_id')\n",
    "                values.append(Segment_id)\n",
    "            \n",
    "            if size_bracket_id is not None:\n",
    "                columns.append('size_bracket_id')\n",
    "                values.append(size_bracket_id)\n",
    "            \n",
    "            if sku_id is not None:\n",
    "                columns.append('sku_id')\n",
    "                values.append(sku_id)\n",
    "\n",
    "            if reigon_id is not None:\n",
    "                columns.append('Reigon_id')\n",
    "                values.append(reigon_id)\n",
    "\n",
    "            columns.append('date')\n",
    "            values.append(row['date'])\n",
    "\n",
    "            \n",
    "            if pd.notna(row['Sales (KGS) (000)']):\n",
    "                columns.append('volume_sales')\n",
    "                values.append(row['Sales (KGS) (000)'])\n",
    "\n",
    "            if pd.notna(row['Sales (KGS) (000)']):\n",
    "                columns.append('value_sales')\n",
    "                values.append(row['Sales Value (000)'])\n",
    "            \n",
    "            if pd.notna(row['Weighted Distribution - Reach']):\n",
    "                columns.append('WOD')\n",
    "                values.append(row['Weighted Distribution - Reach'])\n",
    "\n",
    "            # Build the final query\n",
    "            insert_query = f\"INSERT INTO RawData ({', '.join(columns)}) VALUES ({', '.join(['%s'] * len(columns))})\"\n",
    "            \n",
    "            # Execute the dynamic query\n",
    "            cursor.execute(insert_query, tuple(values))\n",
    "\n",
    "        # Commit the transaction\n",
    "        connection.commit()\n",
    "        print(\"Data inserted successfully into RawData table.\")\n",
    "\n",
    "    connection.close()\n",
    "    \n",
    "except Error as e:\n",
    "    print(\"Error while connecting to MySQL\", e)"
   ]
  },
  {
   "cell_type": "markdown",
   "metadata": {},
   "source": [
    "### Adding the data from to poromoted table with raw id "
   ]
  },
  {
   "cell_type": "code",
   "execution_count": 6,
   "metadata": {},
   "outputs": [],
   "source": [
    "connection = mysql.connector.connect(**connection_params)\n",
    "\n",
    "cursor = connection.cursor()\n",
    "\n",
    "\n",
    "# df.reset_index(inplace= True)\n",
    "query = f\"INSERT INTO Promotions (rawdata_id,Status) VALUES ({'%s, %s'})\"\n",
    "\n",
    "cursor.execute(\"SELECT Id FROM rawdata\")\n",
    "valid_rawdata_ids = list(set(row[0] for row in cursor.fetchall()))\n",
    "\n",
    "df['index'] = valid_rawdata_ids\n",
    "\n",
    "df['Promoted'].fillna(False, inplace=True) \n",
    "data_to_insert = df[['index', 'Promoted']].values.tolist()\n",
    "\n",
    "\n",
    "cursor.executemany(query, data_to_insert)\n",
    "\n",
    "# Commit the transaction\n",
    "connection.commit()\n",
    "\n",
    "connection.close()"
   ]
  },
  {
   "cell_type": "markdown",
   "metadata": {},
   "source": [
    "### Drop all Table data\n",
    "`don't use it unless there is an error and you want remove all data and start all over`"
   ]
  },
  {
   "cell_type": "code",
   "execution_count": 19,
   "metadata": {},
   "outputs": [],
   "source": [
    "# connection = mysql.connector.connect(**connection_params)\n",
    "# cursor = connection.cursor()\n",
    "\n",
    "# # Disable foreign key checks\n",
    "# cursor.execute(\"SET FOREIGN_KEY_CHECKS = 0;\")\n",
    "\n",
    "# # Get all table names\n",
    "# cursor.execute(\"SHOW TABLES;\")\n",
    "# tables = cursor.fetchall()\n",
    "\n",
    "# # Truncate each table\n",
    "# for table in tables:\n",
    "#     cursor.execute(f\"TRUNCATE TABLE {table[0]};\")\n",
    "\n",
    "# # Re-enable foreign key checks\n",
    "# cursor.execute(\"SET FOREIGN_KEY_CHECKS = 1;\")\n",
    "\n",
    "# # Close the connection\n",
    "# connection.close()"
   ]
  }
 ],
 "metadata": {
  "kernelspec": {
   "display_name": "Python 3",
   "language": "python",
   "name": "python3"
  },
  "language_info": {
   "codemirror_mode": {
    "name": "ipython",
    "version": 3
   },
   "file_extension": ".py",
   "mimetype": "text/x-python",
   "name": "python",
   "nbconvert_exporter": "python",
   "pygments_lexer": "ipython3",
   "version": "3.11.3"
  }
 },
 "nbformat": 4,
 "nbformat_minor": 2
}
